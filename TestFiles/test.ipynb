{
 "cells": [
  {
   "cell_type": "code",
   "execution_count": 4,
   "id": "fcdbca91",
   "metadata": {},
   "outputs": [],
   "source": [
    "import numpy as np\n",
    "import matplotlib.pyplot as plt\n",
    "from matplotlib.animation import FuncAnimation"
   ]
  },
  {
   "cell_type": "code",
   "execution_count": 5,
   "id": "48562d1a",
   "metadata": {},
   "outputs": [
    {
     "data": {
      "image/png": "[encoded data removed]",
      "text/plain": [
       "<Figure size 640x480 with 1 Axes>"
      ]
     },
     "metadata": {},
     "output_type": "display_data"
    }
   ],
   "source": [
    "t=np.linspace(0,10,100)\n",
    "y=np.sin(t)\n",
    "\n",
    "fig, axis = plt.subplots()\n",
    "\n",
    "axis.set_xlim(min(t),max(t))\n",
    "axis.set_ylim([-2,2])\n",
    "\n",
    "animated_plot, = axis.plot([],[])\n",
    "\n",
    "def update_data(frame):\n",
    "    \n",
    "    animated_plot.set_data(t, y)\n",
    "    \n",
    "    return animated_plot,\n",
    "\n",
    "animation = FuncAnimation(fig=fig,\n",
    "                          func=update_data,\n",
    "                          frames=len(t),\n",
    "                          interval=25)\n",
    "\n",
    "#axis.plot(t,y)\n",
    "\n",
    "plt.show()"
   ]
  },
  {
   "cell_type": "code",
   "execution_count": null,
   "id": "a2d71257",
   "metadata": {},
   "outputs": [],
   "source": []
  },
  {
   "cell_type": "code",
   "execution_count": null,
   "id": "dad67ffa",
   "metadata": {},
   "outputs": [],
   "source": []
  }
 ],
 "metadata": {
  "kernelspec": {
   "display_name": "Python 3",
   "language": "python",
   "name": "python3"
  },
  "language_info": {
   "codemirror_mode": {
    "name": "ipython",
    "version": 3
   },
   "file_extension": ".py",
   "mimetype": "text/x-python",
   "name": "python",
   "nbconvert_exporter": "python",
   "pygments_lexer": "ipython3",
   "version": "3.12.10"
  }
 },
 "nbformat": 4,
 "nbformat_minor": 5
}
